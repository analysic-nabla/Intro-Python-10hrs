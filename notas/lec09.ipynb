{
  "cells": [
    {
      "cell_type": "markdown",
      "source": [
        "<img src=\"../files/misc/logo.gif\" width=300/>\n",
        "<h1 style=\"color:#872325\">Programación Orientada a Objetos (OOP)</h1>"
      ],
      "metadata": {}
    },
    {
      "cell_type": "markdown",
      "source": [
        "### Python por debajo del agua\n",
        "\n",
        "Python es conocido como un lenguaje de programación multi-paradigma. Un **paradigma** en computación, es la manera (o estilo) de expresar las ideas lógicas del programa. Uno de los estilos de programación con el que cuenta python es el OOP, el cual, como su nombre dice, se basa en los **objetos**. A lo largo del curso hemos, implicitamente, programado en una manera orientada a objetos.\n",
        "\n",
        "**La OOP busca tratar los objetos como contenedores de información.**\n",
        "\nRecordaremos que todo en Python es un objeto y podemos conocer la **clase** a la que pertenece con la función `type`"
      ],
      "metadata": {}
    },
    {
      "cell_type": "code",
      "source": [
        "type(\"SVM\")"
      ],
      "outputs": [
        {
          "output_type": "execute_result",
          "execution_count": 1,
          "data": {
            "text/plain": [
              "str"
            ]
          },
          "metadata": {}
        }
      ],
      "execution_count": 1,
      "metadata": {}
    },
    {
      "cell_type": "code",
      "source": [
        "type(2)"
      ],
      "outputs": [
        {
          "output_type": "execute_result",
          "execution_count": 2,
          "data": {
            "text/plain": [
              "int"
            ]
          },
          "metadata": {}
        }
      ],
      "execution_count": 2,
      "metadata": {}
    },
    {
      "cell_type": "code",
      "source": [
        "type({\"nombre\": \"Bernt\", \"apellido\": \"Oksendal\"})"
      ],
      "outputs": [
        {
          "output_type": "execute_result",
          "execution_count": 3,
          "data": {
            "text/plain": [
              "dict"
            ]
          },
          "metadata": {}
        }
      ],
      "execution_count": 3,
      "metadata": {}
    },
    {
      "cell_type": "markdown",
      "source": [
        "En general, un objeto cuenta con dos características especiales:\n",
        "* Funcionamiento\n",
        "* Atributos\n",
        "\n",
        "Para una persona,\n",
        "* Nombre, apellido, edad serían sus **atributos**\n",
        "* Correr, Programar, Estudiar serían sus **funcionalidades**"
      ],
      "metadata": {}
    },
    {
      "cell_type": "markdown",
      "source": [
        "Considerando la lista\n",
        "```python\n",
        "elements = [3.14, \"e\", \"x^2\"]\n",
        "```\n",
        "¿Qué atributos y que funcionalidades tendría la lista?"
      ],
      "metadata": {}
    },
    {
      "cell_type": "code",
      "source": [
        "elements = [3.14, \"e\", \"x^2\"]\n",
        "# Ans:\n",
        "# Realmente una lista no cuenta con atributos, ya que todos los elementos a los que podemos\n",
        "# acceder son métodos (funcionalidades)\n",
        "elements.append(\"four\") # Una funcionaidad\n",
        "elements"
      ],
      "outputs": [
        {
          "output_type": "execute_result",
          "execution_count": 4,
          "data": {
            "text/plain": [
              "[3.14, 'e', 'x^2', 'four']"
            ]
          },
          "metadata": {}
        }
      ],
      "execution_count": 4,
      "metadata": {}
    },
    {
      "cell_type": "code",
      "source": [
        "elements.count(\"e\") # Otra funcionalidad de la lista"
      ],
      "outputs": [
        {
          "output_type": "execute_result",
          "execution_count": 5,
          "data": {
            "text/plain": [
              "1"
            ]
          },
          "metadata": {}
        }
      ],
      "execution_count": 5,
      "metadata": {}
    },
    {
      "cell_type": "markdown",
      "source": [
        "Hasta ahora hemos visto diferentes *clases* de objetos\n",
        "* `dict`\n",
        "* `float`\n",
        "* `str`\n",
        "* `set`\n",
        "* ...\n",
        "\n",
        "Cada uno con su propia funcionalidad. Pero, ¿qué sucedería si desearamos declarar nuestra propia clase? Podríamos definir una nueva clase para:\n",
        "* Trabajar con elementos matriciales\n",
        "* Una caja registadora\n",
        "* Trabajar con el tiempo"
      ],
      "metadata": {}
    },
    {
      "cell_type": "markdown",
      "source": [
        "## Definiendo Clases en Python"
      ],
      "metadata": {}
    },
    {
      "cell_type": "markdown",
      "source": [
        "En python, definimos una clase por medio del keyword `class`.  \n",
        "Supongamos queremos definir una clase `Human`."
      ],
      "metadata": {}
    },
    {
      "cell_type": "code",
      "source": [
        "class Human:\n",
        "    pass\n",
        "\n",
        "isaac = Human()\n",
        "type(isaac)"
      ],
      "outputs": [
        {
          "output_type": "execute_result",
          "execution_count": 6,
          "data": {
            "text/plain": [
              "__main__.Human"
            ]
          },
          "metadata": {}
        }
      ],
      "execution_count": 6,
      "metadata": {}
    },
    {
      "cell_type": "markdown",
      "source": [
        "Isaac es una variable que guarda un objeto de clase `Human`. Sin embargo, `isaac`no tiene ningun atributo o funcionalidad definida hasta el momento. Al momento de crear una **instancia de una clase**, en ocasiones, es necesario *construir* nuestra clase o inicializar los elementos de la clase.\n",
        "\n",
        "Al definir un humano, tendría sentido tener un *nombre*, *apellido*, *edad* y *sexo* al momento de definir una nueva instancia de un `Human`. Para esto es necesario tener un **constructor** con las propiedades básicas de un humano al momento de su creación. Dentro de una clase, definimos su constructor por medio de `__init__`\n",
        "\n",
        "```python\n",
        "class ClassName:\n",
        "    def __init__(self, p1, p2, .., pk):\n",
        "        self.p1 = p1\n",
        "        self.p2 = p2\n",
        "        ...\n",
        "        self.pk = pk \n",
        "```\n",
        "\n",
        "Donde:\n",
        "* `self` hace referencia al objeto en cuestión, i.e., a la instancia del objeto definido.\n",
        "* `p1, ..., pk` son los parámetros que le daremos al constructor\n",
        "* `self.p1, ..., self.pk` son atributos o funcionalidades que la instancia del objeto tendrá definida\n",
        "\n",
        "**Nota**:\n",
        "* `pi` es un elemento que no existe dentro de la clase \n",
        "* `self.pi` es un elemento de la clase\n",
        "\nPodemos pensar la diferencia entre `pi` y `self.pi` considerando la clase `Human` que estamos definiendo: `nombre` sería el nombre que el padre de un humano desea darle a su hijo. Cuando escribimos, dentro de la clase, `self.nombre = nombre` le asignamos al humano el nombre deseado."
      ],
      "metadata": {}
    },
    {
      "cell_type": "code",
      "source": [
        "class Human:\n",
        "    def __init__(self, name, last_name, age, gender):\n",
        "        self.name = name\n",
        "        self.last_name = last_name\n",
        "        self.age = age\n",
        "        self.gender = gender"
      ],
      "outputs": [],
      "execution_count": 7,
      "metadata": {}
    },
    {
      "cell_type": "code",
      "source": [
        "geof = Human(\"Geoffrey\", \"Hinton\", 70, \"male\")"
      ],
      "outputs": [],
      "execution_count": 8,
      "metadata": {}
    },
    {
      "cell_type": "markdown",
      "source": [
        "Al definir una nueva instancia de la clase, `geof` ahora tiene 4 atributos:"
      ],
      "metadata": {}
    },
    {
      "cell_type": "code",
      "source": [
        "geof.name"
      ],
      "outputs": [
        {
          "output_type": "execute_result",
          "execution_count": 9,
          "data": {
            "text/plain": [
              "'Geoffrey'"
            ]
          },
          "metadata": {}
        }
      ],
      "execution_count": 9,
      "metadata": {}
    },
    {
      "cell_type": "code",
      "source": [
        "geof.age"
      ],
      "outputs": [
        {
          "output_type": "execute_result",
          "execution_count": 10,
          "data": {
            "text/plain": [
              "70"
            ]
          },
          "metadata": {}
        }
      ],
      "execution_count": 10,
      "metadata": {}
    },
    {
      "cell_type": "markdown",
      "source": [
        "Decimos entonces la variable `geof` es de tipo `Human`."
      ],
      "metadata": {}
    },
    {
      "cell_type": "code",
      "source": [
        "type(geof)"
      ],
      "outputs": [
        {
          "output_type": "execute_result",
          "execution_count": 11,
          "data": {
            "text/plain": [
              "__main__.Human"
            ]
          },
          "metadata": {}
        }
      ],
      "execution_count": 11,
      "metadata": {}
    },
    {
      "cell_type": "markdown",
      "source": [
        "**NOTA**  \n",
        "El *constructor* de un método siempre es usado cuando definimos una nueva instancia de una clase. Al escribir, por ejemplo, \n",
        "```python\n",
        "algo = {\"name\": \"backprop\", \"utils\" = \"gradient\"}\n",
        "```\n",
        "Realmente, python *construye* nuestro diccionario de la siguiente manera:\n",
        "```python\n",
        "algo = dict(name=\"backprop\", utils=\"gradient\")\n",
        "```"
      ],
      "metadata": {}
    },
    {
      "cell_type": "markdown",
      "source": [
        "Como se explicó anteriormente, un objeto debe tener tanto atributos como funcionalidad. En el caso de un humano, una funcionalidad que podría tener es cumplir años. Para esto, podemos definir un nuevo **método** que modifique la edad de nuestro `Human`"
      ],
      "metadata": {}
    },
    {
      "cell_type": "code",
      "source": [
        "class Human:\n",
        "    def __init__(self, name, last_name, age, gender):\n",
        "        self.name = name\n",
        "        self.last_name = last_name\n",
        "        self.age = age\n",
        "        self.gender = gender\n",
        "    \n",
        "    def birthday(self):\n",
        "        self.age = self.age + 1"
      ],
      "outputs": [],
      "execution_count": 12,
      "metadata": {}
    },
    {
      "cell_type": "code",
      "source": [
        "geof = Human(\"Geoffrey\", \"Hinton\", 70, \"male\")\n",
        "geof.age"
      ],
      "outputs": [
        {
          "output_type": "execute_result",
          "execution_count": 13,
          "data": {
            "text/plain": [
              "70"
            ]
          },
          "metadata": {}
        }
      ],
      "execution_count": 13,
      "metadata": {}
    },
    {
      "cell_type": "code",
      "source": [
        "# Geof cunple años\n",
        "geof.birthday()\n",
        "geof.age"
      ],
      "outputs": [
        {
          "output_type": "execute_result",
          "execution_count": 14,
          "data": {
            "text/plain": [
              "71"
            ]
          },
          "metadata": {}
        }
      ],
      "execution_count": 14,
      "metadata": {}
    },
    {
      "cell_type": "code",
      "source": [
        "class Human:\n",
        "    def __init__(self, name, last_name, age, gender):\n",
        "        self.name = name\n",
        "        self.last_name = last_name\n",
        "        self.age = age\n",
        "        self.gender = gender\n",
        "    \n",
        "    def birthday(self):\n",
        "        self.age = self.age + 1\n",
        "    \n",
        "    def greeting(self):\n",
        "        print(f\"Hello, my name is {self.name} {self.last_name}. I am {self.age} years old\")"
      ],
      "outputs": [],
      "execution_count": 15,
      "metadata": {}
    },
    {
      "cell_type": "code",
      "source": [
        "class Animal:\n",
        "    def __init__(self, specie, can_fly):\n",
        "        self.specie = specie\n",
        "        self.can_fly = can_fly\n",
        "        self.is_exint = False\n",
        "    \n",
        "    def exint(self):\n",
        "        print(f\"The specie {self.specie} is exint!\")\n",
        "        self.is_exint = True"
      ],
      "outputs": [],
      "execution_count": 16,
      "metadata": {}
    },
    {
      "cell_type": "markdown",
      "source": [
        "### Métodos especiales\n",
        "`__dunders__`\n",
        "\n",
        "Adicional a `__init__`, python cuenta con [métodos especiales](https://docs.python.org/3/reference/datamodel.html#special-method-names) que nos permiten *enriquecer* la funcionalidad de nuestras clases permitiendonos ocupar funciones definidas en python.\n",
        "\nCómo un ejemplo, consideremos la *representación* y la *longitud* de la clase `Human`"
      ],
      "metadata": {}
    },
    {
      "cell_type": "code",
      "source": [
        "geof = Human(\"Geoffrey\", \"Hinton\", 70, \"male\")\n",
        "demis = Human(\"Demis\", \"Hassabis\", 42, \"male\")\n",
        "geof"
      ],
      "outputs": [
        {
          "output_type": "execute_result",
          "execution_count": 17,
          "data": {
            "text/plain": [
              "<__main__.Human at 0x10b460518>"
            ]
          },
          "metadata": {}
        }
      ],
      "execution_count": 17,
      "metadata": {}
    },
    {
      "cell_type": "code",
      "source": [
        "len(geof)"
      ],
      "outputs": [
        {
          "output_type": "error",
          "ename": "TypeError",
          "evalue": "object of type 'Human' has no len()",
          "traceback": [
            "\u001b[0;31m---------------------------------------------------------------------------\u001b[0m",
            "\u001b[0;31mTypeError\u001b[0m                                 Traceback (most recent call last)",
            "\u001b[0;32m<ipython-input-18-e91d06d6cf88>\u001b[0m in \u001b[0;36m<module>\u001b[0;34m\u001b[0m\n\u001b[0;32m----> 1\u001b[0;31m \u001b[0mlen\u001b[0m\u001b[0;34m(\u001b[0m\u001b[0mgeof\u001b[0m\u001b[0;34m)\u001b[0m\u001b[0;34m\u001b[0m\u001b[0;34m\u001b[0m\u001b[0m\n\u001b[0m",
            "\u001b[0;31mTypeError\u001b[0m: object of type 'Human' has no len()"
          ]
        }
      ],
      "execution_count": 18,
      "metadata": {}
    },
    {
      "cell_type": "code",
      "source": [
        "geof < demis"
      ],
      "outputs": [
        {
          "output_type": "error",
          "ename": "TypeError",
          "evalue": "'<' not supported between instances of 'Human' and 'Human'",
          "traceback": [
            "\u001b[0;31m---------------------------------------------------------------------------\u001b[0m",
            "\u001b[0;31mTypeError\u001b[0m                                 Traceback (most recent call last)",
            "\u001b[0;32m<ipython-input-19-80f1e2829b8e>\u001b[0m in \u001b[0;36m<module>\u001b[0;34m\u001b[0m\n\u001b[0;32m----> 1\u001b[0;31m \u001b[0mgeof\u001b[0m \u001b[0;34m<\u001b[0m \u001b[0mdemis\u001b[0m\u001b[0;34m\u001b[0m\u001b[0;34m\u001b[0m\u001b[0m\n\u001b[0m",
            "\u001b[0;31mTypeError\u001b[0m: '<' not supported between instances of 'Human' and 'Human'"
          ]
        }
      ],
      "execution_count": 19,
      "metadata": {}
    },
    {
      "cell_type": "markdown",
      "source": [
        "1. La representación de `Human` no nos dice mucho sobre el objeto en cuestión \n",
        "2. No tenemos definido una *longitud* para un humano"
      ],
      "metadata": {}
    },
    {
      "cell_type": "code",
      "source": [
        "class Human:\n",
        "    def __init__(self, name, last_name, age, gender):\n",
        "        self.name = name\n",
        "        self.last_name = last_name\n",
        "        self.age = age\n",
        "        self.gender = gender\n",
        "    \n",
        "    def birthday(self):\n",
        "        self.age = self.age + 1\n",
        "    \n",
        "    # Cambiando la representación de la clase Human\n",
        "    def __repr__(self):\n",
        "        return f\"Human({self.last_name}, {self.name})\"\n",
        "    \n",
        "    # Definiendo que es la longitud de la clase Human\n",
        "    def __len__(self):\n",
        "        return self.age\n",
        "    \n",
        "    # Definiendo una relación de <\n",
        "    def __lt__(self, h2):\n",
        "        return self.age < h2.age"
      ],
      "outputs": [],
      "execution_count": 203,
      "metadata": {}
    },
    {
      "cell_type": "code",
      "source": [
        "geof = Human(\"Geoffrey\", \"Hinton\", 70, \"male\")\n",
        "demis = Human(\"Demis\", \"Hassabis\", 42, \"male\")"
      ],
      "outputs": [],
      "execution_count": 21,
      "metadata": {}
    },
    {
      "cell_type": "code",
      "source": [
        "geof"
      ],
      "outputs": [
        {
          "output_type": "execute_result",
          "execution_count": 22,
          "data": {
            "text/plain": [
              "Human(Hinton, Geoffrey)"
            ]
          },
          "metadata": {}
        }
      ],
      "execution_count": 22,
      "metadata": {}
    },
    {
      "cell_type": "code",
      "source": [
        "len(geof)"
      ],
      "outputs": [
        {
          "output_type": "execute_result",
          "execution_count": 23,
          "data": {
            "text/plain": [
              "70"
            ]
          },
          "metadata": {}
        }
      ],
      "execution_count": 23,
      "metadata": {}
    },
    {
      "cell_type": "code",
      "source": [
        "geof < demis"
      ],
      "outputs": [
        {
          "output_type": "execute_result",
          "execution_count": 24,
          "data": {
            "text/plain": [
              "False"
            ]
          },
          "metadata": {}
        }
      ],
      "execution_count": 24,
      "metadata": {}
    },
    {
      "cell_type": "markdown",
      "source": [
        "## _Inheritance_\n",
        "En el paradigma OOP existe la propiedad de *heredar*, la cuál nos permite definir una nueva clase considerando los elementos de una clase anterior. Esta propiedad es útil en ocasiones en las cuáles necesitamos definir una case cuyas propiedades y/o métodos dependan de alguna otra clase previamente definida: \n",
        "\n",
        "Definir una herencia en python se logra de la siguiente manera:\n",
        "\n",
        "```python\n",
        "class NewClasss(BaseClass):\n",
        "    ...\n",
        "```"
      ],
      "metadata": {}
    },
    {
      "cell_type": "code",
      "source": [
        "class ClassA:\n",
        "    def method_a(self):\n",
        "        print(\"Provengo de la clase A\")\n",
        "\n",
        "class ClassB(ClassA):\n",
        "    def method_b(self):\n",
        "        print(\"Provengo de la clase B\")"
      ],
      "outputs": [],
      "execution_count": 25,
      "metadata": {}
    },
    {
      "cell_type": "code",
      "source": [
        "b = ClassB()\n",
        "b.method_a()"
      ],
      "outputs": [
        {
          "output_type": "stream",
          "name": "stdout",
          "text": [
            "Provengo de la clase A\n"
          ]
        }
      ],
      "execution_count": 26,
      "metadata": {}
    },
    {
      "cell_type": "markdown",
      "source": [
        "### `super()`\n",
        "Muy comúnmente, al tener una clase `B` que herede de otra clase `A`, `A` contará con parámetros dentro de su constructor que serán necesarios inicializar. Para inicializar una clase `A` dentro de una clase `B`, haremos uso de la función `super()` dentro de la definición del constructor de `B`."
      ],
      "metadata": {}
    },
    {
      "cell_type": "code",
      "source": [
        "class Student(Human):\n",
        "    def __init__(self, name, last_name, age, gender, major):\n",
        "        # Inicializamos los valores que provienen desde 'Human'\n",
        "        super().__init__(name, last_name, age, gender) # inicializamos el objeto\n",
        "        self.major = major"
      ],
      "outputs": [],
      "execution_count": 27,
      "metadata": {}
    },
    {
      "cell_type": "code",
      "source": [
        "leonardo = Student(\"Leonardo\", \"Arredondo\", 18, \"male\", \"actuary\")"
      ],
      "outputs": [],
      "execution_count": 28,
      "metadata": {}
    },
    {
      "cell_type": "code",
      "source": [
        "leonardo.age"
      ],
      "outputs": [
        {
          "output_type": "execute_result",
          "execution_count": 29,
          "data": {
            "text/plain": [
              "18"
            ]
          },
          "metadata": {}
        }
      ],
      "execution_count": 29,
      "metadata": {}
    },
    {
      "cell_type": "code",
      "source": [
        "leonardo.birthday()\n",
        "leonardo.age"
      ],
      "outputs": [
        {
          "output_type": "execute_result",
          "execution_count": 30,
          "data": {
            "text/plain": [
              "19"
            ]
          },
          "metadata": {}
        }
      ],
      "execution_count": 30,
      "metadata": {}
    },
    {
      "cell_type": "code",
      "source": [
        "isinstance(leonardo, Student)"
      ],
      "outputs": [
        {
          "output_type": "execute_result",
          "execution_count": 31,
          "data": {
            "text/plain": [
              "True"
            ]
          },
          "metadata": {}
        }
      ],
      "execution_count": 31,
      "metadata": {}
    },
    {
      "cell_type": "code",
      "source": [
        "isinstance(leonardo, Human)"
      ],
      "outputs": [
        {
          "output_type": "execute_result",
          "execution_count": 32,
          "data": {
            "text/plain": [
              "True"
            ]
          },
          "metadata": {}
        }
      ],
      "execution_count": 32,
      "metadata": {}
    },
    {
      "cell_type": "markdown",
      "source": [
        "En general, `super()` regresa un objeto que que delega llamadas a métodos de clases padre o bajo el mismo nivel. De acuerdo a la documentación,\n",
        "\n",
        "> [...] esto es útil para accesar a métodos heredados que han sido sobreescritos en una clase\n",
        "\nConsideremos la clase `Rectangulo`"
      ],
      "metadata": {}
    },
    {
      "cell_type": "code",
      "source": [
        "class Rectangulo:\n",
        "    def __init__(self, base, altura):\n",
        "        self.base = base\n",
        "        self.altura = altura\n",
        "    \n",
        "    def area(self):\n",
        "        return self.base * self.altura"
      ],
      "outputs": [],
      "execution_count": 195,
      "metadata": {}
    },
    {
      "cell_type": "markdown",
      "source": [
        "De esta clase, podemos obtener una segunda clase `Cuadrado` que herede las propiedades de `Rectangulo`. Sin embago, nos gustaría definir un nuevo método `area` dentro de `Cuadrado` que considere el método `area` definido anteriormente. Esto a fin de hacer uso de la función ya definida únicamente modificando los parámetros. \n",
        "\n",
        "**Nota**: Aunque este es un ejemplo sencillo. El uso de `super()` nos permite sobreescribir sobre una clase padre y hacer uso del método que ha sido sobreescrito\n"
      ],
      "metadata": {}
    },
    {
      "cell_type": "code",
      "source": [
        "class Square(Rectangle):\n",
        "    def __init__(self, lenght):\n",
        "        super().__init__(lenght, lenght)\n",
        "    \n",
        "    def area(self):\n",
        "        return super().area()"
      ],
      "outputs": [],
      "execution_count": 200,
      "metadata": {}
    },
    {
      "cell_type": "code",
      "source": [
        "sq = Square(2)\n",
        "sq.area()"
      ],
      "outputs": [
        {
          "output_type": "execute_result",
          "execution_count": 201,
          "data": {
            "text/plain": [
              "4"
            ]
          },
          "metadata": {}
        }
      ],
      "execution_count": 201,
      "metadata": {}
    },
    {
      "cell_type": "markdown",
      "source": [
        "## Métodos y propiedades privadas\n",
        "¿Qué sucede si nuestra clase contiene un método o atributo atributo el cuál no deseamos que el usuario de la clase no utilice?\n",
        "\n",
        "Recordemos nuestra función\n",
        "```python\n",
        "class Human:\n",
        "    def __init__(self, name, last_name, age, gender):\n",
        "        self.name = name\n",
        "        self.last_name = last_name\n",
        "        self.age = age\n",
        "        self.gender = gender\n",
        "    \n",
        "    def birthday(self):\n",
        "        self.age = self.age + 1\n",
        "```"
      ],
      "metadata": {}
    },
    {
      "cell_type": "markdown",
      "source": [
        "y consideremos la siguiente instancia de `Human`"
      ],
      "metadata": {}
    },
    {
      "cell_type": "code",
      "source": [
        "chris = Human(\"Christopher\", \"Bishop\", 60, \"male\")\n",
        "chris.name"
      ],
      "outputs": [
        {
          "output_type": "execute_result",
          "execution_count": 207,
          "data": {
            "text/plain": [
              "'Christopher'"
            ]
          },
          "metadata": {}
        }
      ],
      "execution_count": 207,
      "metadata": {}
    },
    {
      "cell_type": "markdown",
      "source": [
        "Aunque la manera correcta, de acuerdo a nuestra clase, es agregar una edad es mediante el método `birthday`, nada impide a un usuario de nuestra clase acceder a `edad` y modificarlo a su manera"
      ],
      "metadata": {}
    },
    {
      "cell_type": "code",
      "source": [
        "chris.age += 100\n",
        "chris.age"
      ],
      "outputs": [
        {
          "output_type": "execute_result",
          "execution_count": 252,
          "data": {
            "text/plain": [
              "160"
            ]
          },
          "metadata": {}
        }
      ],
      "execution_count": 252,
      "metadata": {}
    },
    {
      "cell_type": "code",
      "source": [
        "class Human:\n",
        "    def __init__(self, name, last_name, age, gender):\n",
        "        self._name = name\n",
        "        self._last_name = last_name\n",
        "        self._age = age\n",
        "        self._gender = gender\n",
        "\n",
        "    def birthday(self):\n",
        "        self.age = self.age + 1\n",
        "    \n",
        "    def get_name(self):\n",
        "        return self._name"
      ],
      "outputs": [],
      "execution_count": 265,
      "metadata": {}
    },
    {
      "cell_type": "code",
      "source": [
        "chris = Human(\"Christopher\", \"Bishop\", 60, \"male\")\n",
        "chris.name"
      ],
      "outputs": [
        {
          "output_type": "error",
          "ename": "AttributeError",
          "evalue": "'Human' object has no attribute 'name'",
          "traceback": [
            "\u001b[0;31m---------------------------------------------------------------------------\u001b[0m",
            "\u001b[0;31mAttributeError\u001b[0m                            Traceback (most recent call last)",
            "\u001b[0;32m<ipython-input-266-8cbba698b43f>\u001b[0m in \u001b[0;36m<module>\u001b[0;34m\u001b[0m\n\u001b[1;32m      1\u001b[0m \u001b[0mchris\u001b[0m \u001b[0;34m=\u001b[0m \u001b[0mHuman\u001b[0m\u001b[0;34m(\u001b[0m\u001b[0;34m\"Christopher\"\u001b[0m\u001b[0;34m,\u001b[0m \u001b[0;34m\"Bishop\"\u001b[0m\u001b[0;34m,\u001b[0m \u001b[0;36m60\u001b[0m\u001b[0;34m,\u001b[0m \u001b[0;34m\"male\"\u001b[0m\u001b[0;34m)\u001b[0m\u001b[0;34m\u001b[0m\u001b[0;34m\u001b[0m\u001b[0m\n\u001b[0;32m----> 2\u001b[0;31m \u001b[0mchris\u001b[0m\u001b[0;34m.\u001b[0m\u001b[0mname\u001b[0m\u001b[0;34m\u001b[0m\u001b[0;34m\u001b[0m\u001b[0m\n\u001b[0m",
            "\u001b[0;31mAttributeError\u001b[0m: 'Human' object has no attribute 'name'"
          ]
        }
      ],
      "execution_count": 266,
      "metadata": {}
    },
    {
      "cell_type": "code",
      "source": [
        "# Manera incorrecta de acceder a la variable\n",
        "chris._name"
      ],
      "outputs": [
        {
          "output_type": "execute_result",
          "execution_count": 267,
          "data": {
            "text/plain": [
              "'Christopher'"
            ]
          },
          "metadata": {}
        }
      ],
      "execution_count": 267,
      "metadata": {}
    },
    {
      "cell_type": "code",
      "source": [
        "# Manera correcta de accedera a la variable\n",
        "chris.get_name()"
      ],
      "outputs": [
        {
          "output_type": "execute_result",
          "execution_count": 269,
          "data": {
            "text/plain": [
              "'Christopher'"
            ]
          },
          "metadata": {}
        }
      ],
      "execution_count": 269,
      "metadata": {}
    },
    {
      "cell_type": "markdown",
      "source": [
        "### Usando _dunders_ `__`"
      ],
      "metadata": {}
    },
    {
      "cell_type": "code",
      "source": [
        "class Human:\n",
        "    def __init__(self, name, last_name, age, gender):\n",
        "        self.__name = name\n",
        "        self.last_name = last_name\n",
        "        self.age = age\n",
        "        self.gender = gender\n",
        "\n",
        "    def birthday(self):\n",
        "        self.age = self.age + 1\n",
        "    \n",
        "    def get_name(self):\n",
        "        return self.__name"
      ],
      "outputs": [],
      "execution_count": 290,
      "metadata": {}
    },
    {
      "cell_type": "code",
      "source": [
        "chris = Human(\"Christopher\", \"Bishop\", 60, \"male\")"
      ],
      "outputs": [],
      "execution_count": 291,
      "metadata": {}
    },
    {
      "cell_type": "code",
      "source": [
        "# Manera incorrecta de acceder a la variable\n",
        "chris._Human__name"
      ],
      "outputs": [
        {
          "output_type": "execute_result",
          "execution_count": 292,
          "data": {
            "text/plain": [
              "'Christopher'"
            ]
          },
          "metadata": {}
        }
      ],
      "execution_count": 292,
      "metadata": {}
    },
    {
      "cell_type": "code",
      "source": [
        "# Manera correcta de accedera a la variable\n",
        "chris.get_name()"
      ],
      "outputs": [
        {
          "output_type": "execute_result",
          "execution_count": 293,
          "data": {
            "text/plain": [
              "'Christopher'"
            ]
          },
          "metadata": {}
        }
      ],
      "execution_count": 293,
      "metadata": {}
    },
    {
      "cell_type": "markdown",
      "source": [
        "A fin de _tratar_ evitar que un usuario modifique una propiedad de la clase, podemos hacer de este objeto privado siguiendo las siguientes convenciones:\n",
        "    1. `_nombre_var` es una convención dentro de Python la cuál le informa al usuario que la variable `_nombre_var` no es pública. Sin embargo, el usuario puede acceder a esta.\n",
        "    2. `__nombre_var` (dos guiónes bajos al inicio) modifica la variable `__nombre_var` por `__nombre_clase_nombre_var`"
      ],
      "metadata": {}
    },
    {
      "cell_type": "markdown",
      "source": [
        "<h2 style=\"color:crimson\">Ejercicios</h2>\n",
        "\n",
        "1. Modifica la clase `Human` definiendo el método `greeting` que presente al `Human`. Por ejemplo, \n",
        "```python\n",
        ">>> geof = Human(\"Geoffrey\", \"Hinton\", 70, \"male\")\n",
        ">>> geof.greeting()\n",
        "Hello, my name is Geoffrey Hinton. I am 70 years old\n",
        "```\n",
        "----\n",
        "2. Crea una clase `Animal` que tome como valores del constructor una `specie` de tipo str y un valor `can_fly` de tipo booleano. Dentro del constructor, asigna el atributo`__is_exint = False`; define el método `exint` que modifique el atributo `__is_exint` a `True`\n",
        "----\n",
        "3. Defina la clase `Bird` que herede las propiedades de `Animal`, inicialice la propiedad `can_fly=True`y tenga el método `sing` que imprima en la pantalla `\"tweet\"`\n",
        "----\n",
        "4. Define la clase `Categorical` que tome como valores del constructor un numpy array unidimensional `probs` de `dtype=\"f\"`, longitud `K` tal que la sume de valores sea uno.\n",
        "    1. Si `probs.sum() != 1.0`, levanta un `ValueError` informando al usuario que la suma de probabilidades no es igual a `1.0`; de otra manera, guarda `probs` dentro de la clase\n",
        "    2. Si `np.any(probs) < 0` es verdadero, levanta un `ValueError` informando al usuario que no probabilidad puede ser menor a 0.\n",
        "    2. Define el método `pmf` que tome un ndarray `x` de la misma longitud tal que sólo un elemento es `1` y el resto `0`, e.g., `x = np.array([0, 0, 1, 0])` y regrese el siguiente resultado:\n",
        "        \n",
        "    $$\n",
        "        p({\\bf x} | {\\bf \\mu}) = \\prod_{k=1}^K \\mu_k^{x_k} = \\mu_1^{x_1} \\times \\mu_2^{x_2} \\times \\ldots \\times \\mu_K^{x_K}\n",
        "    $$\n",
        "----\n",
        "5. Modifica la clase `Human` de modo que `name`, `last_name`, `age`, `gender` sean variables privadas y para acceder a cada parámetro sea necesario hacerlo por medio de método `get_nombre_var`\n",
        "----\n",
        "6. Define la clase `Multinomial` que herede las propiedades de `Categorical`.\n",
        "    1. Define el método `pmf` que considere un ndarray `m` de números enteros (con `len(x) == len(self.probs)`), y regrese el método `Categorical.pmf` multiplicado por el factor de normalización\n",
        "    $$\n",
        "        \\frac{N!}{m_1!m_2!\\cdots m_K!}\n",
        "    $$\n",
        "    Dónde $N = \\sum_k m_k$, ${\\bf m} = \\{m_1, \\ldots, m_k\\}$ y $n! = n\\times n-1\\times \\cdots \\times 1$ es la función factorial   \n",
        "    Quedando la definición de `Multinomial.pmf` como sigue:\n",
        "    $$\n",
        "        p_\\text{mult}({\\bf m} | {\\bf \\mu}) = \\frac{N!}{m_1!m_2!\\cdots m_K!}  p_\\text{cat}({\\bf m} | {\\bf \\mu}) = \\frac{N!}{m_1!m_2!\\cdots m_K!} \\prod_{k=1}^K \\mu_k^{m_k}\n",
        "    $$\n",
        "    Considera la función `factorial` dentro de `scipy.special` para calcular el factor de normalización.\n",
        "----\n",
        "7. Define la clase `Binomial` que herede de `Multinomial`\n",
        "    1. Modifica el constructor a fin que tome un único parámetro ` 0 <= p <= 1` e inicializa la clase padre correctamente.\n",
        "    2. Define el método `pmf(m, N)` que considere un enteros `m`, `N` tal que `m <= N`. El método deberá regresar `Multinomial.pdf` con parámetro `np.array([m, N - m])`.\n",
        "----\n",
        "8. Define la clase `Bernoulli` que herede de `Binomial`\n",
        "    1. Define el método `pmf(x)` que considere la variable binaria `x in [0, 1]`. El método deberá regresar `Binomial.pdf(x, 1)`"
      ],
      "metadata": {}
    },
    {
      "cell_type": "markdown",
      "source": [
        "## Referencias\n",
        "\n",
        "1. https://rhettinger.wordpress.com/2011/05/26/super-considered-super/\n",
        "2. https://docs.python.org/3/library/functions.html#super\n",
        "3. https://docs.python.org/3/tutorial/classes.html"
      ],
      "metadata": {}
    }
  ],
  "metadata": {
    "kernelspec": {
      "display_name": "Python 3",
      "language": "python",
      "name": "python3"
    },
    "language_info": {
      "codemirror_mode": {
        "name": "ipython",
        "version": 3
      },
      "file_extension": ".py",
      "mimetype": "text/x-python",
      "name": "python",
      "nbconvert_exporter": "python",
      "pygments_lexer": "ipython3",
      "version": "3.7.3"
    },
    "nteract": {
      "version": "0.12.3"
    }
  },
  "nbformat": 4,
  "nbformat_minor": 2
}