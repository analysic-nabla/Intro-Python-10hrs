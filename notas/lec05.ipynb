{
 "cells": [
  {
   "cell_type": "markdown",
   "metadata": {
    "slideshow": {
     "slide_type": "slide"
    }
   },
   "source": [
    "<img src=\"../files/misc/logo.gif\" width=300/>\n",
    "<h1 style=\"color:#872325\">Funciones</h1>"
   ]
  },
  {
   "cell_type": "markdown",
   "metadata": {},
   "source": [
    "* Una función, en programación, es una sección nombrada de un programa cuyo fin es realizar una tarea específica.\n",
    "* La mayoría de los lenguajes de programación, como es el caso de Python, contienen funciones ya definidas que pueden ser usadas por el usuario."
   ]
  },
  {
   "cell_type": "markdown",
   "metadata": {
    "slideshow": {
     "slide_type": "slide"
    }
   },
   "source": [
    "### Funciones que ya conocemos"
   ]
  },
  {
   "cell_type": "code",
   "execution_count": 1,
   "metadata": {
    "slideshow": {
     "slide_type": "fragment"
    }
   },
   "outputs": [
    {
     "data": {
      "text/plain": [
       "4"
      ]
     },
     "execution_count": 1,
     "metadata": {},
     "output_type": "execute_result"
    }
   ],
   "source": [
    "len([1, 2, 3, 4])"
   ]
  },
  {
   "cell_type": "code",
   "execution_count": 1,
   "metadata": {},
   "outputs": [
    {
     "data": {
      "text/plain": [
       "10"
      ]
     },
     "execution_count": 1,
     "metadata": {},
     "output_type": "execute_result"
    }
   ],
   "source": [
    "sum([1, 2, 3, 4])"
   ]
  },
  {
   "cell_type": "code",
   "execution_count": 2,
   "metadata": {
    "slideshow": {
     "slide_type": "fragment"
    }
   },
   "outputs": [
    {
     "name": "stdout",
     "output_type": "stream",
     "text": [
      "f(x)\n"
     ]
    }
   ],
   "source": [
    "print(\"f(x)\")"
   ]
  },
  {
   "cell_type": "code",
   "execution_count": 3,
   "metadata": {
    "slideshow": {
     "slide_type": "fragment"
    }
   },
   "outputs": [
    {
     "data": {
      "text/plain": [
       "9"
      ]
     },
     "execution_count": 3,
     "metadata": {},
     "output_type": "execute_result"
    }
   ],
   "source": [
    "pow(3, 2)"
   ]
  },
  {
   "cell_type": "code",
   "execution_count": 4,
   "metadata": {
    "slideshow": {
     "slide_type": "fragment"
    }
   },
   "outputs": [
    {
     "data": {
      "text/plain": [
       "3"
      ]
     },
     "execution_count": 4,
     "metadata": {},
     "output_type": "execute_result"
    }
   ],
   "source": [
    "abs(-3)"
   ]
  },
  {
   "cell_type": "markdown",
   "metadata": {
    "slideshow": {
     "slide_type": "slide"
    }
   },
   "source": [
    "Declaramos una función en python por medio del keyword `def` (*definition*). La sintáxis general para declarar una función en python es la siguiente:\n",
    "\n",
    "```python\n",
    "def nombre_funcion(param1, param2, ..., paramn):\n",
    "    <operaciones>\n",
    "```\n",
    "\n",
    "* `param1`, `param2` son conocidos como los **parámetros** de la función. Estos son objetos que servirán como *inputs* a la función (si es que la función necesita algún input)\n",
    "* Al igual que con los loops (`for`, `while`) y control flow statements (`if`, `else`, `elif`), la definición de una función inicia después de su declaración inicial; el cuerpo de la función es todo aquello con sangría y acaba al regresar al nivel en donde la función fue definida."
   ]
  },
  {
   "cell_type": "code",
   "execution_count": 5,
   "metadata": {
    "slideshow": {
     "slide_type": "slide"
    }
   },
   "outputs": [
    {
     "name": "stdout",
     "output_type": "stream",
     "text": [
      "¡Esto es una función!\n"
     ]
    }
   ],
   "source": [
    "def funcion():\n",
    "    print(\"¡Esto es una función!\")\n",
    "\n",
    "funcion()"
   ]
  },
  {
   "cell_type": "code",
   "execution_count": 16,
   "metadata": {
    "slideshow": {
     "slide_type": "subslide"
    }
   },
   "outputs": [
    {
     "name": "stdout",
     "output_type": "stream",
     "text": [
      "2.23606797749979\n"
     ]
    }
   ],
   "source": [
    "def distancia(a, b):\n",
    "    print( (a**2 + b**2) ** (1/2))\n",
    "\n",
    "distancia(1,2)"
   ]
  },
  {
   "cell_type": "markdown",
   "metadata": {},
   "source": [
    "Al crear una función es importante notar que los parámetros de la función y las variables declaradas dentro de la función solo se ven afectadas dentro de la función.  \n",
    "El alcance de una variable es conocido como el *scope*"
   ]
  },
  {
   "cell_type": "code",
   "execution_count": 11,
   "metadata": {},
   "outputs": [
    {
     "name": "stdout",
     "output_type": "stream",
     "text": [
      "4\n",
      "3\n"
     ]
    }
   ],
   "source": [
    "def f(a): # 'a' es conocido como un parámetro\n",
    "    b = 3 # b no existe fuera de este scope\n",
    "    a += 1\n",
    "    print(a)\n",
    "    \n",
    "a = 3\n",
    "f(a) # 'a' es un argumento\n",
    "print(a)"
   ]
  },
  {
   "cell_type": "markdown",
   "metadata": {},
   "source": [
    "El valor que toma un parámetro es conocido como su **argumento**. Los argumentos de una función se toman de manera ordenada."
   ]
  },
  {
   "cell_type": "code",
   "execution_count": 18,
   "metadata": {},
   "outputs": [],
   "source": [
    "def potencia(x, y):\n",
    "    print(x ** y)"
   ]
  },
  {
   "cell_type": "code",
   "execution_count": 19,
   "metadata": {},
   "outputs": [
    {
     "name": "stdout",
     "output_type": "stream",
     "text": [
      "8\n"
     ]
    }
   ],
   "source": [
    "potencia(2, 3)"
   ]
  },
  {
   "cell_type": "code",
   "execution_count": 20,
   "metadata": {},
   "outputs": [
    {
     "name": "stdout",
     "output_type": "stream",
     "text": [
      "9\n"
     ]
    }
   ],
   "source": [
    "potencia(3, 2)"
   ]
  },
  {
   "cell_type": "markdown",
   "metadata": {},
   "source": [
    "De igual manera, podemos pasar un argumento a cualquier función de manera explicita mencionando el nombre del parámetro seguido del argumento. De esta manera, el orden de los argumentos no son relevantes, siempre y cuando tomemos el nombre del parámetro correcto"
   ]
  },
  {
   "cell_type": "code",
   "execution_count": 23,
   "metadata": {
    "slideshow": {
     "slide_type": "fragment"
    }
   },
   "outputs": [
    {
     "name": "stdout",
     "output_type": "stream",
     "text": [
      "8\n"
     ]
    }
   ],
   "source": [
    "potencia(x=2, y=3)"
   ]
  },
  {
   "cell_type": "code",
   "execution_count": 24,
   "metadata": {
    "slideshow": {
     "slide_type": "fragment"
    }
   },
   "outputs": [
    {
     "name": "stdout",
     "output_type": "stream",
     "text": [
      "8\n"
     ]
    }
   ],
   "source": [
    "potencia(y=3, x=2)"
   ]
  },
  {
   "cell_type": "markdown",
   "metadata": {},
   "source": [
    "### El `return` keyword\n",
    "En muchas ocasiones no nos es estrictamente necesario observar el valor que arroja una función, sino más bien trabajar con ese valor.\n",
    "\n",
    "Considerando la siguiente función, supongamos que queremos guardar el valor que nos arroja una función. En este caso, vemos que no podemos hacer uso del valor calculado por la función `cuadrado`. En efecto, el valor arrojado por la función no es nada `None`."
   ]
  },
  {
   "cell_type": "code",
   "execution_count": 14,
   "metadata": {},
   "outputs": [
    {
     "name": "stdout",
     "output_type": "stream",
     "text": [
      "4\n",
      "None\n"
     ]
    }
   ],
   "source": [
    "def cuadrado(x):\n",
    "    print(x ** 2)\n",
    "\n",
    "sq2 = cuadrado(2)\n",
    "print(sq2)"
   ]
  },
  {
   "cell_type": "markdown",
   "metadata": {},
   "source": [
    "Para poder obtener el valor de una función ocupamos el keyword `return`, el cuál nos arroja un valor (o valores) deseado creados dentro de una función"
   ]
  },
  {
   "cell_type": "code",
   "execution_count": 15,
   "metadata": {},
   "outputs": [
    {
     "name": "stdout",
     "output_type": "stream",
     "text": [
      "4\n"
     ]
    }
   ],
   "source": [
    "def cuadrado(x):\n",
    "    return x ** 2\n",
    "\n",
    "sq2 = cuadrado(2)\n",
    "print(sq2)"
   ]
  },
  {
   "cell_type": "markdown",
   "metadata": {},
   "source": [
    "Dentro de una función, normalmente se ocupa el `print` para saber el estado de un programa, e.g., un proceso largo sobre el cuál nos gustaría saber en que punto se encuentra el proceso. El `return` es el valor sobre el cuál nos gustaría trabajar."
   ]
  },
  {
   "cell_type": "markdown",
   "metadata": {
    "slideshow": {
     "slide_type": "slide"
    }
   },
   "source": [
    "### Argumentos Opcionales\n",
    "En python podemos definir funciones cuyos parámetros toman algún argumento predefinido. Estos parámetros se conocen como **argumentos opcionales**"
   ]
  },
  {
   "cell_type": "code",
   "execution_count": 10,
   "metadata": {
    "collapsed": true,
    "slideshow": {
     "slide_type": "fragment"
    }
   },
   "outputs": [],
   "source": [
    "def distancia2(x1, y1, x0=0, y0=0):\n",
    "    return ((x1 - x0) ** 2 + (y1 - y0) **2) ** (1/2) "
   ]
  },
  {
   "cell_type": "code",
   "execution_count": 11,
   "metadata": {
    "slideshow": {
     "slide_type": "fragment"
    }
   },
   "outputs": [
    {
     "data": {
      "text/plain": [
       "2.23606797749979"
      ]
     },
     "execution_count": 11,
     "metadata": {},
     "output_type": "execute_result"
    }
   ],
   "source": [
    "distancia2(1, 2)"
   ]
  },
  {
   "cell_type": "code",
   "execution_count": 12,
   "metadata": {
    "slideshow": {
     "slide_type": "fragment"
    }
   },
   "outputs": [
    {
     "data": {
      "text/plain": [
       "0.5099019513592785"
      ]
     },
     "execution_count": 12,
     "metadata": {},
     "output_type": "execute_result"
    }
   ],
   "source": [
    "distancia2(1, 2, 1.5, 2.1)"
   ]
  },
  {
   "cell_type": "code",
   "execution_count": 13,
   "metadata": {
    "slideshow": {
     "slide_type": "fragment"
    }
   },
   "outputs": [
    {
     "data": {
      "text/plain": [
       "0.5099019513592785"
      ]
     },
     "execution_count": 13,
     "metadata": {},
     "output_type": "execute_result"
    }
   ],
   "source": [
    "# Cambiando el orden de los parametros\n",
    "distancia2(x0=1.5, x1=1, y0=2.1, y1= 2) "
   ]
  },
  {
   "cell_type": "markdown",
   "metadata": {
    "slideshow": {
     "slide_type": "slide"
    }
   },
   "source": [
    "<h2 style=\"color:crimson\"> Ejercicio </h2>\n",
    "\n",
    "1. Considera el siguiente programa y responde: ¿Cuál es el valor de `y` una vez ejecutado el programa?\n",
    "\n",
    "```python\n",
    "def cuadrado(x):\n",
    "    y = x ** 2\n",
    "    \n",
    "y = 3\n",
    "cuadrado(2)\n",
    "print(y)\n",
    "```\n",
    "\n",
    "\n",
    "2. Escribe un programa que tome una lista de enteros y regrese la lista con solo los números impares\n",
    "```python\n",
    ">>> solo_impares([1, 5, 2, 8, 9, 10])\n",
    "[1, 5, 9]\n",
    "```\n",
    "\n",
    "3. Escribe la función `table` que imprima una tabla aritmética de suma, resta y multiplicación. La función tomará dos parámetros un tamaño de tabla `size` y una operación a realizar (una de `\"suma\"`, `\"resta\"`, `\"mult\"`)\n",
    "\n",
    "```python\n",
    ">>> table(5, \"resta\")\n",
    "00 -1 -2 -3 -4 \n",
    "01 00 -1 -2 -3 \n",
    "02 01 00 -1 -2 \n",
    "03 02 01 00 -1 \n",
    "04 03 02 01 00 \n",
    "\n",
    ">>> table(5, \"mult\")\n",
    "01 02 03 04 05 \n",
    "02 04 06 08 10 \n",
    "03 06 09 12 15 \n",
    "04 08 12 16 20 \n",
    "05 10 15 20 25\n",
    "\n",
    ">>> table(5, \"div\")\n",
    "Operación 'div' no reconocida\n",
    "```\n",
    "\n",
    "4. Escribe una función `sum_mult` que calcule la suma de todos los números divisibles por 3 y 5 por debajo de un número límite `n` (exclusivo). Por ejemplo, si $n=10$, entonces el programa debería regresar la suma de los valores `3, 5, 6, 9` \n",
    "```python\n",
    ">>> sum_mult(10)\n",
    "23\n",
    ">>> sum_mult(20)\n",
    "78\n",
    "```\n",
    "\n",
    "5. Escribe una función `factorial` que calcule el factorial de un número entero $n \\geq 0$. El factorial de un número $n \\geq 1$ se define como\n",
    "$$\n",
    "    n! = n \\times n - 1 \\times n - 2 \\times \\ldots \\times 2 \\times 1\n",
    "$$\n",
    "y $0! = 1$\n",
    "```python\n",
    ">>> factorial(3)\n",
    "6\n",
    ">>> factorial(6)\n",
    "720\n",
    "```\n",
    "\n",
    "6. Escribe la función `numeros` que tome una lista de elementos y regrese una nueva lista únicamente con los elementos numéricos `int`, `float`\n",
    "```python\n",
    ">>> numeros([1, \"2\", \"a\", False, 2, 4])\n",
    "[1, 2, 4]\n",
    ">>> numeros([True, False, type, 0.01])\n",
    "[0.01]\n",
    "```\n",
    "7. Escribe una función `fibonacci` que regrese una lista con los primeros `n` elementos de la secuencia Fibonacci. Recordemos, la secuencia fibonacci es la siguiente:\n",
    "```\n",
    "0 1 1 2 3 5 8 13 21\n",
    "```\n",
    "En general, el $n$-ésimo término de la secuencia Fibonacci es $F_1 = 0$, $F_2 = 1$ y, para cualquier $n \\geq 3$,\n",
    "\n",
    "$$\n",
    "    F_n = F_{n - 2} + F_{n - 1}\n",
    "$$\n",
    "8. *La conjetura de Collatz*. La conjetura de Collatz nos dice lo siguiente: elige cualquier número entero $n \\geq 2$ si $n$ es par, divídelo por $2$; si $n$ es impar, multiplicalo por $3$ y súmale uno\n",
    "$$\n",
    "    C(n) = \\begin{cases}\n",
    "        n / 2 & n \\text{ es par}  \\\\\n",
    "        3n + 1 & n \\text{ es impar}\n",
    "    \\end{cases}\n",
    "$$\n",
    "Sin importar el número con el que empieces, eventualmente, $n$ terminará siendo uno.  \n",
    "Escribe la función `collatz` que regrese el número de veces que tarda un número en llegar a $1$ (el primer paso no cuenta). Por ejemplo, si $n=3$. Los pasos a seguir serían los siguientes:\n",
    "```\n",
    "3 10 5 16 8 4 2 1 \n",
    "```\n",
    "```python\n",
    ">>> collatz(3)\n",
    "7\n",
    ">>> collatz(7)\n",
    "16\n",
    ">>> collatz(2 ** 100 - 1)\n",
    "108\n",
    ">>> collatz(63728127)\n",
    "949\n",
    "```"
   ]
  },
  {
   "cell_type": "markdown",
   "metadata": {
    "slideshow": {
     "slide_type": "slide"
    }
   },
   "source": [
    "## Ejemplo: Valuando opción Europea"
   ]
  },
  {
   "cell_type": "code",
   "execution_count": 18,
   "metadata": {
    "slideshow": {
     "slide_type": "subslide"
    }
   },
   "outputs": [],
   "source": [
    "from scipy.stats import norm\n",
    "from math import log, sqrt, exp\n",
    "def option(f, k, rate, sigma, ttm, say=\"call\"):\n",
    "    \"\"\"\n",
    "    Valora una opción \"call\" o \"put\" europea bajo\n",
    "    el modelo de Black '76.\n",
    "    Para una referencia, ver:\n",
    "    https://en.wikipedia.org/wiki/Black_model\n",
    "    \n",
    "    Parameters\n",
    "    ----------\n",
    "    s0: float\n",
    "        Valor del forward sobre la opción\n",
    "    k: float\n",
    "        Strike de la opción\n",
    "    rate: float\n",
    "        Tasa de interés libre de riesgo\n",
    "    sigma: float\n",
    "        Volatilidad implicita de la opción\n",
    "    ttm: float\n",
    "        tiempo hacia la fecha de maduración de la opción (time to maturity)\n",
    "    say: string\n",
    "        Tipo de la acción: \"put\" o \"call\"\n",
    "        \n",
    "    Returns\n",
    "    -------\n",
    "    float: El valor presente de la opción bajo el modelo de Black '76\n",
    "    \"\"\"    \n",
    "    ind = 1 if say == \"call\" else -1\n",
    "    d1 = (log(f / k) + sigma ** 2 / 2 * ttm) / (sigma * sqrt(ttm)); d2 = d1 - sigma * sqrt(ttm)\n",
    "    Nd1 = norm.cdf(ind * d1); Nd2 = norm.cdf(ind * d2)\n",
    "    \n",
    "    option_price = ind * exp(-rate * ttm) * (f * Nd1 - k * Nd2)\n",
    "    return option_price"
   ]
  },
  {
   "cell_type": "code",
   "execution_count": 19,
   "metadata": {
    "slideshow": {
     "slide_type": "subslide"
    }
   },
   "outputs": [
    {
     "data": {
      "text/plain": [
       "1.9960592711207739"
      ]
     },
     "execution_count": 19,
     "metadata": {},
     "output_type": "execute_result"
    }
   ],
   "source": [
    "option(12, 10, 0.06, 0.23, 12 / 365, say=\"call\")"
   ]
  },
  {
   "cell_type": "code",
   "execution_count": 20,
   "metadata": {
    "slideshow": {
     "slide_type": "fragment"
    }
   },
   "outputs": [
    {
     "name": "stdout",
     "output_type": "stream",
     "text": [
      "Help on function option in module __main__:\n",
      "\n",
      "option(f, k, rate, sigma, ttm, say='call')\n",
      "    Valora una opción \"call\" o \"put\" europea bajo\n",
      "    el modelo de Black '76.\n",
      "    Para una referencia, ver:\n",
      "    https://en.wikipedia.org/wiki/Black_model\n",
      "    \n",
      "    Parameters\n",
      "    ----------\n",
      "    s0: float\n",
      "        Valor del forward sobre la opción\n",
      "    k: float\n",
      "        Strike de la opción\n",
      "    rate: float\n",
      "        Tasa de interés libre de riesgo\n",
      "    sigma: float\n",
      "        Volatilidad implicita de la opción\n",
      "    ttm: float\n",
      "        tiempo hacia la fecha de maduración de la opción (time to maturity)\n",
      "    say: string\n",
      "        Tipo de la acción: \"put\" o \"call\"\n",
      "        \n",
      "    Returns\n",
      "    -------\n",
      "    float: El valor presente de la opción bajo el modelo de Black '76\n",
      "\n"
     ]
    }
   ],
   "source": [
    "help(option)"
   ]
  },
  {
   "cell_type": "markdown",
   "metadata": {
    "slideshow": {
     "slide_type": "slide"
    }
   },
   "source": [
    "## `*args` & `**kwargs`\n",
    "Podemos aceptar cualquier número de argumentos con `*args` y cualquier número de argumentos y llaves con `**kwargs`. En ocasiones no sabemos el número total de parametros para una función o queremos extender su dependencia hacia otras clases"
   ]
  },
  {
   "cell_type": "code",
   "execution_count": 43,
   "metadata": {
    "collapsed": true,
    "slideshow": {
     "slide_type": "fragment"
    }
   },
   "outputs": [],
   "source": [
    "def funcion_args(*args):\n",
    "    print(args)"
   ]
  },
  {
   "cell_type": "code",
   "execution_count": 45,
   "metadata": {
    "slideshow": {
     "slide_type": "fragment"
    }
   },
   "outputs": [
    {
     "name": "stdout",
     "output_type": "stream",
     "text": [
      "(1, 2, 3)\n"
     ]
    }
   ],
   "source": [
    "funcion_args(1, 2, 3)"
   ]
  },
  {
   "cell_type": "code",
   "execution_count": 46,
   "metadata": {
    "collapsed": true,
    "slideshow": {
     "slide_type": "fragment"
    }
   },
   "outputs": [],
   "source": [
    "def funcion_kwargs(**kwargs):\n",
    "    print(kwargs)"
   ]
  },
  {
   "cell_type": "code",
   "execution_count": 48,
   "metadata": {
    "slideshow": {
     "slide_type": "fragment"
    }
   },
   "outputs": [
    {
     "name": "stdout",
     "output_type": "stream",
     "text": [
      "{'a': 1, 'b': 2}\n"
     ]
    }
   ],
   "source": [
    "funcion_kwargs(a=1, b=2)"
   ]
  },
  {
   "cell_type": "code",
   "execution_count": 2,
   "metadata": {
    "collapsed": true,
    "slideshow": {
     "slide_type": "slide"
    }
   },
   "outputs": [],
   "source": [
    "def funcion_args_kwargs(*args, **kwargs):\n",
    "    print(args)\n",
    "    print(kwargs)"
   ]
  },
  {
   "cell_type": "code",
   "execution_count": 3,
   "metadata": {
    "slideshow": {
     "slide_type": "fragment"
    }
   },
   "outputs": [
    {
     "name": "stdout",
     "output_type": "stream",
     "text": [
      "(1, 2)\n",
      "{'a': 1, 'b': 2}\n"
     ]
    }
   ],
   "source": [
    "funcion_args_kwargs(1,2, a=1, b=2)"
   ]
  },
  {
   "cell_type": "markdown",
   "metadata": {
    "slideshow": {
     "slide_type": "slide"
    }
   },
   "source": [
    "<h2 style=\"color:crimson\"> Ejercicio </h2>\n",
    "\n",
    "1. Escribe un programa `unicos` que tome una `n` cantidad de números enteros y regrese una lista con los valores únicos.\n",
    "```python\n",
    ">>> unicos(1, 2, 3, 4, 2, 3, 4)\n",
    "[1, 2, 3, 4]\n",
    ">>> unicos(1, 1, 2)\n",
    "[1, 2]\n",
    "```\n",
    "1. Escribe una función `familia` que describa una familia. El programa deberá tomar como parámetro el rol de un miembro de la familia y como argumento su nombre. El programa deberá imprimir `\"Los integrantes de la familia son:\"`, seguido de los integrantes de la familia\n",
    "```python\n",
    ">>> familia(papa=\"Mario\", hija1=\"Sophia\", hija2=\"Elizabeth\")\n",
    "Los integrantes de la familia son:\n",
    "Mario es papa\n",
    "Sophia es hija1\n",
    "Elizabeth es hija2\n",
    "```"
   ]
  },
  {
   "cell_type": "markdown",
   "metadata": {
    "slideshow": {
     "slide_type": "slide"
    }
   },
   "source": [
    "## Ejemplo con ``**kwargs``"
   ]
  },
  {
   "cell_type": "code",
   "execution_count": 32,
   "metadata": {},
   "outputs": [
    {
     "name": "stdout",
     "output_type": "stream",
     "text": [
      "a 1\n",
      "b 2\n"
     ]
    }
   ],
   "source": [
    "test = {\"a\": 1, \"b\": 2}\n",
    "for key, element in test.items():\n",
    "    print(key, element)"
   ]
  },
  {
   "cell_type": "code",
   "execution_count": 35,
   "metadata": {},
   "outputs": [
    {
     "name": "stdout",
     "output_type": "stream",
     "text": [
      "Los integrantes de la familia son:\n",
      "Mario es papa\n",
      "Sophia es hija1\n",
      "Elizabeth es hija2\n"
     ]
    }
   ],
   "source": [
    "def familia(**kwargs):\n",
    "    print(\"Los integrantes de la familia son:\")\n",
    "    for role, name in kwargs.items():\n",
    "        print(f\"{name} es {role}\")\n",
    "        \n",
    "\n",
    "familia(papa=\"Mario\", hija1=\"Sophia\", hija2=\"Elizabeth\")"
   ]
  },
  {
   "cell_type": "code",
   "execution_count": 16,
   "metadata": {
    "slideshow": {
     "slide_type": "slide"
    }
   },
   "outputs": [],
   "source": [
    "from ipywidgets import interact, FloatSlider, Dropdown\n",
    "import matplotlib.pyplot as plt\n",
    "\n",
    "def graph_option(k, rate, sigma, ttm):\n",
    "    Ft = [i for i in range(10, 50, 1)]\n",
    "    prices = [option(F, k, rate, sigma, ttm) for F in Ft]\n",
    "    plt.figure(figsize=(13,8))\n",
    "    plt.plot(Ft, prices)\n",
    "    plt.xlabel(\"$F(t)$\")\n",
    "    plt.ylabel(\"$C(t)$\")\n",
    "    plt.ylim(-0.5, 25); plt.xlim(10, 50)\n",
    "    plt.show()"
   ]
  },
  {
   "cell_type": "code",
   "execution_count": 21,
   "metadata": {
    "slideshow": {
     "slide_type": "slide"
    }
   },
   "outputs": [
    {
     "data": {
      "application/vnd.jupyter.widget-view+json": {
       "model_id": "649e6cb4e3f240bbba6e88ed8c6022dc",
       "version_major": 2,
       "version_minor": 0
      },
      "text/plain": [
       "interactive(children=(FloatSlider(value=20.0, description='k', max=50.0, min=10.0, step=1.0), FloatSlider(valu…"
      ]
     },
     "metadata": {},
     "output_type": "display_data"
    },
    {
     "data": {
      "text/plain": [
       "<function __main__.graph_option(k, rate, sigma, ttm)>"
      ]
     },
     "execution_count": 21,
     "metadata": {},
     "output_type": "execute_result"
    }
   ],
   "source": [
    "interact(graph_option,\n",
    "         k=FloatSlider(min=10, max=50, step=1, value=20),\n",
    "         rate=FloatSlider(min=0.01, max=0.2, step=0.01, value=0.06),\n",
    "         sigma=FloatSlider(min=0.01, max=0.8, step=0.1, value=0.23),\n",
    "         ttm=FloatSlider(min=0.01, max=2, step=0.1, value=30/365))"
   ]
  },
  {
   "cell_type": "markdown",
   "metadata": {
    "slideshow": {
     "slide_type": "slide"
    }
   },
   "source": [
    "<h2 style=\"color:crimson\"> Ejercicio </h2>\n",
    "\n",
    "1. Escribe un programa `unicos` que tome una `n` cantidad de números enteros y regrese una lista con los valores únicos.\n",
    "```python\n",
    ">>> unicos(1, 2, 3, 4, 2, 3, 4)\n",
    "[1, 2, 3, 4]\n",
    ">>> unicos(1, 1, 2)\n",
    "[1, 2]\n",
    "```\n",
    "1. Escribe una función `familia` que describa una familia. El programa deberá tomar como parámetro el rol de un miembro de la familia y como argumento su nombre. El programa deberá imprimir `\"Los integrantes de la familia son:\"`, seguido de los integrantes de la familia\n",
    "```python\n",
    ">>> familia(papa=\"Mario\", hija1=\"Sophia\", hija2=\"Elizabeth\")\n",
    "Los integrantes de la familia son:\n",
    "Mario es papa\n",
    "Sophia es hija1\n",
    "Elizabeth es hija2\n",
    "```"
   ]
  }
 ],
 "metadata": {
  "celltoolbar": "Slideshow",
  "kernelspec": {
   "display_name": "Python 3",
   "language": "python",
   "name": "python3"
  },
  "language_info": {
   "codemirror_mode": {
    "name": "ipython",
    "version": 3
   },
   "file_extension": ".py",
   "mimetype": "text/x-python",
   "name": "python",
   "nbconvert_exporter": "python",
   "pygments_lexer": "ipython3",
   "version": "3.6.6"
  },
  "widgets": {
   "state": {
    "848edb5b6b654b24a91bf3b563b89bf4": {
     "views": [
      {
       "cell_index": 38
      }
     ]
    }
   },
   "version": "1.2.0"
  }
 },
 "nbformat": 4,
 "nbformat_minor": 2
}
